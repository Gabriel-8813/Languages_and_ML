{
 "cells": [
  {
   "cell_type": "code",
   "execution_count": 2,
   "metadata": {},
   "outputs": [],
   "source": [
    "import pandas as pd\n",
    "\n",
    "Model_df= pd.read_csv(\"Model_data.csv\")\n"
   ]
  },
  {
   "cell_type": "code",
   "execution_count": 3,
   "metadata": {},
   "outputs": [
    {
     "data": {
      "text/html": [
       "<div>\n",
       "<style scoped>\n",
       "    .dataframe tbody tr th:only-of-type {\n",
       "        vertical-align: middle;\n",
       "    }\n",
       "\n",
       "    .dataframe tbody tr th {\n",
       "        vertical-align: top;\n",
       "    }\n",
       "\n",
       "    .dataframe thead th {\n",
       "        text-align: right;\n",
       "    }\n",
       "</style>\n",
       "<table border=\"1\" class=\"dataframe\">\n",
       "  <thead>\n",
       "    <tr style=\"text-align: right;\">\n",
       "      <th></th>\n",
       "      <th>Language</th>\n",
       "      <th>Countries</th>\n",
       "      <th>Degree of endangerment</th>\n",
       "      <th>Number of speakers</th>\n",
       "      <th>Endangerment_Level</th>\n",
       "    </tr>\n",
       "  </thead>\n",
       "  <tbody>\n",
       "    <tr>\n",
       "      <th>0</th>\n",
       "      <td>kede</td>\n",
       "      <td>Angola</td>\n",
       "      <td>Extinct</td>\n",
       "      <td>0</td>\n",
       "      <td>5</td>\n",
       "    </tr>\n",
       "    <tr>\n",
       "      <th>1</th>\n",
       "      <td>munji</td>\n",
       "      <td>Afghanistan</td>\n",
       "      <td>Severely endangered</td>\n",
       "      <td>2000</td>\n",
       "      <td>3</td>\n",
       "    </tr>\n",
       "    <tr>\n",
       "      <th>2</th>\n",
       "      <td>chru</td>\n",
       "      <td>Viet Nam</td>\n",
       "      <td>Vulnerable</td>\n",
       "      <td>12000</td>\n",
       "      <td>1</td>\n",
       "    </tr>\n",
       "    <tr>\n",
       "      <th>3</th>\n",
       "      <td>parachi</td>\n",
       "      <td>Afghanistan</td>\n",
       "      <td>Definitely endangered</td>\n",
       "      <td>6000</td>\n",
       "      <td>2</td>\n",
       "    </tr>\n",
       "    <tr>\n",
       "      <th>4</th>\n",
       "      <td>bolo</td>\n",
       "      <td>Angola</td>\n",
       "      <td>Definitely endangered</td>\n",
       "      <td>2627</td>\n",
       "      <td>2</td>\n",
       "    </tr>\n",
       "  </tbody>\n",
       "</table>\n",
       "</div>"
      ],
      "text/plain": [
       "  Language    Countries Degree of endangerment  Number of speakers  \\\n",
       "0     kede       Angola                Extinct                   0   \n",
       "1    munji  Afghanistan    Severely endangered                2000   \n",
       "2     chru     Viet Nam             Vulnerable               12000   \n",
       "3  parachi  Afghanistan  Definitely endangered                6000   \n",
       "4     bolo       Angola  Definitely endangered                2627   \n",
       "\n",
       "   Endangerment_Level  \n",
       "0                   5  \n",
       "1                   3  \n",
       "2                   1  \n",
       "3                   2  \n",
       "4                   2  "
      ]
     },
     "execution_count": 3,
     "metadata": {},
     "output_type": "execute_result"
    }
   ],
   "source": [
    "Model_df.head()"
   ]
  },
  {
   "cell_type": "code",
   "execution_count": 4,
   "metadata": {},
   "outputs": [
    {
     "name": "stdout",
     "output_type": "stream",
     "text": [
      "<class 'pandas.core.frame.DataFrame'>\n",
      "RangeIndex: 447 entries, 0 to 446\n",
      "Data columns (total 5 columns):\n",
      " #   Column                  Non-Null Count  Dtype \n",
      "---  ------                  --------------  ----- \n",
      " 0   Language                447 non-null    object\n",
      " 1   Countries               447 non-null    object\n",
      " 2   Degree of endangerment  447 non-null    object\n",
      " 3   Number of speakers      447 non-null    int64 \n",
      " 4   Endangerment_Level      447 non-null    int64 \n",
      "dtypes: int64(2), object(3)\n",
      "memory usage: 17.6+ KB\n"
     ]
    }
   ],
   "source": [
    "Model_df.info()\n"
   ]
  },
  {
   "cell_type": "code",
   "execution_count": 5,
   "metadata": {},
   "outputs": [
    {
     "name": "stdout",
     "output_type": "stream",
     "text": [
      "Predictions: ['Critically endangered' 'Critically endangered' 'Definitely endangered'\n",
      " 'Extinct' 'Extinct' 'Extinct' 'Extinct' 'Definitely endangered'\n",
      " 'Definitely endangered' 'Extinct' 'Extinct' 'Definitely endangered'\n",
      " 'Safe' 'Critically endangered' 'Definitely endangered' 'Extinct'\n",
      " 'Extinct' 'Critically endangered' 'Definitely endangered'\n",
      " 'Definitely endangered' 'Definitely endangered' 'Definitely endangered'\n",
      " 'Definitely endangered' 'Definitely endangered' 'Safe'\n",
      " 'Definitely endangered' 'Extinct' 'Definitely endangered'\n",
      " 'Critically endangered' 'Definitely endangered' 'Definitely endangered'\n",
      " 'Safe' 'Extinct' 'Safe' 'Definitely endangered' 'Safe' 'Extinct'\n",
      " 'Extinct' 'Extinct' 'Critically endangered' 'Definitely endangered'\n",
      " 'Safe' 'Extinct' 'Safe' 'Critically endangered' 'Definitely endangered'\n",
      " 'Extinct' 'Safe' 'Extinct' 'Definitely endangered'\n",
      " 'Definitely endangered' 'Safe' 'Safe' 'Definitely endangered'\n",
      " 'Definitely endangered' 'Definitely endangered' 'Safe'\n",
      " 'Definitely endangered' 'Definitely endangered' 'Extinct'\n",
      " 'Definitely endangered' 'Critically endangered' 'Definitely endangered'\n",
      " 'Definitely endangered' 'Critically endangered' 'Safe' 'Safe' 'Extinct'\n",
      " 'Extinct' 'Definitely endangered' 'Safe' 'Critically endangered'\n",
      " 'Definitely endangered' 'Extinct' 'Extinct' 'Definitely endangered'\n",
      " 'Extinct' 'Critically endangered' 'Critically endangered'\n",
      " 'Critically endangered' 'Critically endangered' 'Critically endangered'\n",
      " 'Definitely endangered' 'Safe' 'Safe' 'Safe' 'Definitely endangered'\n",
      " 'Extinct' 'Safe' 'Definitely endangered']\n"
     ]
    }
   ],
   "source": [
    "import pandas as pd\n",
    "from sklearn.preprocessing import OneHotEncoder\n",
    "from sklearn.model_selection import train_test_split\n",
    "from sklearn.ensemble import RandomForestClassifier\n",
    "\n",
    "# One-hot encoding for categorical variables\n",
    "encoder = OneHotEncoder(sparse_output=False)\n",
    "encoded_columns = encoder.fit_transform(Model_df[['Language', 'Countries',]])\n",
    "\n",
    "# Create a DataFrame for encoded columns\n",
    "encoded_df = pd.DataFrame(encoded_columns, columns=encoder.get_feature_names_out(['Language', 'Countries']))\n",
    "\n",
    "# Combine the encoded columns with the original numerical data\n",
    "df_final = pd.concat([Model_df[['Number of speakers']], encoded_df], axis=1)\n",
    "\n",
    "# Features and target variable\n",
    "X = df_final  # Features\n",
    "y = Model_df['Degree of endangerment']  # Target variable\n",
    "\n",
    "# Split the data\n",
    "X_train, X_test, y_train, y_test = train_test_split(X, y, test_size=0.2, random_state=42)\n",
    "\n",
    "# Initialize and train the model\n",
    "model = RandomForestClassifier()\n",
    "model.fit(X_train, y_train)\n",
    "\n",
    "# Predict and evaluate\n",
    "y_pred = model.predict(X_test)\n",
    "print(\"Predictions:\", y_pred)\n",
    "\n"
   ]
  },
  {
   "cell_type": "code",
   "execution_count": 6,
   "metadata": {},
   "outputs": [],
   "source": [
    "# Predict using the test data\n",
    "y_pred = model.predict(X_test)\n"
   ]
  },
  {
   "cell_type": "code",
   "execution_count": 7,
   "metadata": {},
   "outputs": [
    {
     "name": "stdout",
     "output_type": "stream",
     "text": [
      "Accuracy: 0.7333333333333333\n",
      "Precision: 0.6219607843137255\n",
      "Recall: 0.7333333333333333\n",
      "F1-Score: 0.6594356261022928\n"
     ]
    },
    {
     "name": "stderr",
     "output_type": "stream",
     "text": [
      "c:\\Users\\azerty\\anaconda3\\envs\\dev\\lib\\site-packages\\sklearn\\metrics\\_classification.py:1531: UndefinedMetricWarning: Precision is ill-defined and being set to 0.0 in labels with no predicted samples. Use `zero_division` parameter to control this behavior.\n",
      "  _warn_prf(average, modifier, f\"{metric.capitalize()} is\", len(result))\n"
     ]
    }
   ],
   "source": [
    "from sklearn.metrics import accuracy_score, precision_score, recall_score, f1_score\n",
    "\n",
    "# Calculate metrics\n",
    "accuracy = accuracy_score(y_test, y_pred)\n",
    "precision = precision_score(y_test, y_pred, average='weighted')\n",
    "recall = recall_score(y_test, y_pred, average='weighted')\n",
    "f1 = f1_score(y_test, y_pred, average='weighted')\n",
    "\n",
    "print(f\"Accuracy: {accuracy}\")\n",
    "print(f\"Precision: {precision}\")\n",
    "print(f\"Recall: {recall}\")\n",
    "print(f\"F1-Score: {f1}\")\n",
    "\n"
   ]
  },
  {
   "cell_type": "code",
   "execution_count": 8,
   "metadata": {},
   "outputs": [
    {
     "name": "stdout",
     "output_type": "stream",
     "text": [
      "Cross-validation scores: [0.54444444 0.72222222 0.7752809  0.73033708 0.5505618 ]\n",
      "Mean cross-validation score: 0.664569288389513\n"
     ]
    }
   ],
   "source": [
    "from sklearn.model_selection import cross_val_score\n",
    "\n",
    "# Perform cross-validation\n",
    "scores = cross_val_score(model, X, y, cv=5, scoring='accuracy')\n",
    "print(f\"Cross-validation scores: {scores}\")\n",
    "print(f\"Mean cross-validation score: {scores.mean()}\")\n"
   ]
  },
  {
   "cell_type": "code",
   "execution_count": 9,
   "metadata": {},
   "outputs": [
    {
     "data": {
      "text/plain": [
       "['1st_model_RForest.pkl']"
      ]
     },
     "execution_count": 9,
     "metadata": {},
     "output_type": "execute_result"
    }
   ],
   "source": [
    "# Save the trained model  \n",
    "import joblib \n",
    "joblib.dump(model, \"1st_model_RForest.pkl\")"
   ]
  }
 ],
 "metadata": {
  "kernelspec": {
   "display_name": "dev",
   "language": "python",
   "name": "python3"
  },
  "language_info": {
   "codemirror_mode": {
    "name": "ipython",
    "version": 3
   },
   "file_extension": ".py",
   "mimetype": "text/x-python",
   "name": "python",
   "nbconvert_exporter": "python",
   "pygments_lexer": "ipython3",
   "version": "3.10.15"
  }
 },
 "nbformat": 4,
 "nbformat_minor": 2
}
